{
 "cells": [
  {
   "cell_type": "markdown",
   "metadata": {},
   "source": [
    "## Trial 1 9/20/2023"
   ]
  },
  {
   "cell_type": "code",
   "execution_count": null,
   "metadata": {},
   "outputs": [],
   "source": [
    "import sys\n",
    "from scipy.io import mmread\n",
    "\n",
    "if len(sys.argv) != 3:\n",
    "    print(\"Usage: python mtx_to_metis.py <input_file.mtx> <output_file.txt>\")\n",
    "    sys.exit(1)\n",
    "\n",
    "input_file = sys.argv[1]\n",
    "output_file = sys.argv[2]\n",
    "\n",
    "# Read the sparse matrix from the .mtx file\n",
    "matrix = mmread(input_file).tocsr()\n",
    "\n",
    "n = matrix.shape[0]  # Number of vertices\n",
    "m = matrix.nnz // 2  # Number of edges, divide by 2 for undirected graphs\n",
    "\n",
    "# Write to the output file in METIS format\n",
    "with open(output_file, 'w') as f:\n",
    "    f.write(f\"{n} {m}\\n\")  # Write the header with number of vertices and edges\n",
    "    \n",
    "    for i in range(n):\n",
    "        # Extract the neighboring vertices for vertex i\n",
    "        neighbors = matrix[i].indices + 1  # +1 as METIS format is 1-indexed\n",
    "        neighbors_str = ' '.join(map(str, neighbors))\n",
    "        f.write(neighbors_str + '\\n')\n",
    "\n",
    "print(f\"Conversion from {input_file} to {output_file} completed successfully!\")\n"
   ]
  },
  {
   "cell_type": "code",
   "execution_count": 1,
   "metadata": {},
   "outputs": [
    {
     "ename": "ValueError",
     "evalue": "too many values to unpack (expected 5)",
     "output_type": "error",
     "traceback": [
      "\u001b[1;31m---------------------------------------------------------------------------\u001b[0m",
      "\u001b[1;31mValueError\u001b[0m                                Traceback (most recent call last)",
      "\u001b[1;32mc:\\Users\\Vladimir\\Desktop\\Everything\\Work\\ARLIS\\HIVE\\Graph-Benchmarking-Project\\Code\\Graph_Problems\\CommunityDetection\\Louvian\\Parallel\\CPU\\parallel-louvain-modularity\\src\\parallel\\mtx_to_metis.ipynb Cell 2\u001b[0m line \u001b[0;36m8\n\u001b[0;32m      <a href='vscode-notebook-cell:/c%3A/Users/Vladimir/Desktop/Everything/Work/ARLIS/HIVE/Graph-Benchmarking-Project/Code/Graph_Problems/CommunityDetection/Louvian/Parallel/CPU/parallel-louvain-modularity/src/parallel/mtx_to_metis.ipynb#W1sZmlsZQ%3D%3D?line=4'>5</a>\u001b[0m output_file \u001b[39m=\u001b[39m \u001b[39m'\u001b[39m\u001b[39mSMALL_metis_chesapeake.txt\u001b[39m\u001b[39m'\u001b[39m\n\u001b[0;32m      <a href='vscode-notebook-cell:/c%3A/Users/Vladimir/Desktop/Everything/Work/ARLIS/HIVE/Graph-Benchmarking-Project/Code/Graph_Problems/CommunityDetection/Louvian/Parallel/CPU/parallel-louvain-modularity/src/parallel/mtx_to_metis.ipynb#W1sZmlsZQ%3D%3D?line=6'>7</a>\u001b[0m \u001b[39m# Read the sparse matrix from the .mtx file\u001b[39;00m\n\u001b[1;32m----> <a href='vscode-notebook-cell:/c%3A/Users/Vladimir/Desktop/Everything/Work/ARLIS/HIVE/Graph-Benchmarking-Project/Code/Graph_Problems/CommunityDetection/Louvian/Parallel/CPU/parallel-louvain-modularity/src/parallel/mtx_to_metis.ipynb#W1sZmlsZQ%3D%3D?line=7'>8</a>\u001b[0m matrix \u001b[39m=\u001b[39m mmread(input_file)\u001b[39m.\u001b[39mtocsr()\n\u001b[0;32m     <a href='vscode-notebook-cell:/c%3A/Users/Vladimir/Desktop/Everything/Work/ARLIS/HIVE/Graph-Benchmarking-Project/Code/Graph_Problems/CommunityDetection/Louvian/Parallel/CPU/parallel-louvain-modularity/src/parallel/mtx_to_metis.ipynb#W1sZmlsZQ%3D%3D?line=9'>10</a>\u001b[0m n \u001b[39m=\u001b[39m matrix\u001b[39m.\u001b[39mshape[\u001b[39m0\u001b[39m]  \u001b[39m# Number of vertices\u001b[39;00m\n\u001b[0;32m     <a href='vscode-notebook-cell:/c%3A/Users/Vladimir/Desktop/Everything/Work/ARLIS/HIVE/Graph-Benchmarking-Project/Code/Graph_Problems/CommunityDetection/Louvian/Parallel/CPU/parallel-louvain-modularity/src/parallel/mtx_to_metis.ipynb#W1sZmlsZQ%3D%3D?line=10'>11</a>\u001b[0m m \u001b[39m=\u001b[39m matrix\u001b[39m.\u001b[39mnnz \u001b[39m/\u001b[39m\u001b[39m/\u001b[39m \u001b[39m2\u001b[39m  \u001b[39m# Number of edges, divide by 2 for undirected graphs\u001b[39;00m\n",
      "File \u001b[1;32mc:\\Users\\Vladimir\\.conda\\envs\\hive\\lib\\site-packages\\scipy\\io\\_mmio.py:129\u001b[0m, in \u001b[0;36mmmread\u001b[1;34m(source)\u001b[0m\n\u001b[0;32m     84\u001b[0m \u001b[39mdef\u001b[39;00m \u001b[39mmmread\u001b[39m(source):\n\u001b[0;32m     85\u001b[0m \u001b[39m    \u001b[39m\u001b[39m\"\"\"\u001b[39;00m\n\u001b[0;32m     86\u001b[0m \u001b[39m    Reads the contents of a Matrix Market file-like 'source' into a matrix.\u001b[39;00m\n\u001b[0;32m     87\u001b[0m \n\u001b[1;32m   (...)\u001b[0m\n\u001b[0;32m    127\u001b[0m \u001b[39m           [0., 0., 0., 0., 0.]])\u001b[39;00m\n\u001b[0;32m    128\u001b[0m \u001b[39m    \"\"\"\u001b[39;00m\n\u001b[1;32m--> 129\u001b[0m     \u001b[39mreturn\u001b[39;00m MMFile()\u001b[39m.\u001b[39;49mread(source)\n",
      "File \u001b[1;32mc:\\Users\\Vladimir\\.conda\\envs\\hive\\lib\\site-packages\\scipy\\io\\_mmio.py:581\u001b[0m, in \u001b[0;36mMMFile.read\u001b[1;34m(self, source)\u001b[0m\n\u001b[0;32m    578\u001b[0m stream, close_it \u001b[39m=\u001b[39m \u001b[39mself\u001b[39m\u001b[39m.\u001b[39m_open(source)\n\u001b[0;32m    580\u001b[0m \u001b[39mtry\u001b[39;00m:\n\u001b[1;32m--> 581\u001b[0m     \u001b[39mself\u001b[39;49m\u001b[39m.\u001b[39;49m_parse_header(stream)\n\u001b[0;32m    582\u001b[0m     \u001b[39mreturn\u001b[39;00m \u001b[39mself\u001b[39m\u001b[39m.\u001b[39m_parse_body(stream)\n\u001b[0;32m    584\u001b[0m \u001b[39mfinally\u001b[39;00m:\n",
      "File \u001b[1;32mc:\\Users\\Vladimir\\.conda\\envs\\hive\\lib\\site-packages\\scipy\\io\\_mmio.py:645\u001b[0m, in \u001b[0;36mMMFile._parse_header\u001b[1;34m(self, stream)\u001b[0m\n\u001b[0;32m    643\u001b[0m \u001b[39mdef\u001b[39;00m \u001b[39m_parse_header\u001b[39m(\u001b[39mself\u001b[39m, stream):\n\u001b[0;32m    644\u001b[0m     rows, cols, entries, \u001b[39mformat\u001b[39m, field, symmetry \u001b[39m=\u001b[39m \\\n\u001b[1;32m--> 645\u001b[0m         \u001b[39mself\u001b[39;49m\u001b[39m.\u001b[39;49m\u001b[39m__class__\u001b[39;49m\u001b[39m.\u001b[39;49minfo(stream)\n\u001b[0;32m    646\u001b[0m     \u001b[39mself\u001b[39m\u001b[39m.\u001b[39m_init_attrs(rows\u001b[39m=\u001b[39mrows, cols\u001b[39m=\u001b[39mcols, entries\u001b[39m=\u001b[39mentries, \u001b[39mformat\u001b[39m\u001b[39m=\u001b[39m\u001b[39mformat\u001b[39m,\n\u001b[0;32m    647\u001b[0m                      field\u001b[39m=\u001b[39mfield, symmetry\u001b[39m=\u001b[39msymmetry)\n",
      "File \u001b[1;32mc:\\Users\\Vladimir\\.conda\\envs\\hive\\lib\\site-packages\\scipy\\io\\_mmio.py:374\u001b[0m, in \u001b[0;36mMMFile.info\u001b[1;34m(self, source)\u001b[0m\n\u001b[0;32m    370\u001b[0m \u001b[39mtry\u001b[39;00m:\n\u001b[0;32m    371\u001b[0m \n\u001b[0;32m    372\u001b[0m     \u001b[39m# read and validate header line\u001b[39;00m\n\u001b[0;32m    373\u001b[0m     line \u001b[39m=\u001b[39m stream\u001b[39m.\u001b[39mreadline()\n\u001b[1;32m--> 374\u001b[0m     mmid, matrix, \u001b[39mformat\u001b[39m, field, symmetry \u001b[39m=\u001b[39m \\\n\u001b[0;32m    375\u001b[0m         (asstr(part\u001b[39m.\u001b[39mstrip()) \u001b[39mfor\u001b[39;00m part \u001b[39min\u001b[39;00m line\u001b[39m.\u001b[39msplit())\n\u001b[0;32m    376\u001b[0m     \u001b[39mif\u001b[39;00m \u001b[39mnot\u001b[39;00m mmid\u001b[39m.\u001b[39mstartswith(\u001b[39m'\u001b[39m\u001b[39m%%\u001b[39;00m\u001b[39mMatrixMarket\u001b[39m\u001b[39m'\u001b[39m):\n\u001b[0;32m    377\u001b[0m         \u001b[39mraise\u001b[39;00m \u001b[39mValueError\u001b[39;00m(\u001b[39m'\u001b[39m\u001b[39msource is not in Matrix Market format\u001b[39m\u001b[39m'\u001b[39m)\n",
      "\u001b[1;31mValueError\u001b[0m: too many values to unpack (expected 5)"
     ]
    }
   ],
   "source": [
    "import sys\n",
    "from scipy.io import mmread\n",
    "\n",
    "input_file = 'SMALL_chesapeake.mtx'\n",
    "output_file = 'SMALL_metis_chesapeake.txt'\n",
    "\n",
    "# Read the sparse matrix from the .mtx file\n",
    "matrix = mmread(input_file).tocsr()\n",
    "\n",
    "n = matrix.shape[0]  # Number of vertices\n",
    "m = matrix.nnz // 2  # Number of edges, divide by 2 for undirected graphs\n",
    "\n",
    "# Write to the output file in METIS format\n",
    "with open(output_file, 'w') as f:\n",
    "    f.write(f\"{n} {m}\\n\")  # Write the header with number of vertices and edges\n",
    "    \n",
    "    for i in range(n):\n",
    "        # Extract the neighboring vertices for vertex i\n",
    "        neighbors = matrix[i].indices + 1  # +1 as METIS format is 1-indexed\n",
    "        neighbors_str = ' '.join(map(str, neighbors))\n",
    "        f.write(neighbors_str + '\\n')\n",
    "\n",
    "print(f\"Conversion from {input_file} to {output_file} completed successfully!\")\n"
   ]
  },
  {
   "cell_type": "markdown",
   "metadata": {},
   "source": [
    "## Trial 2 9/26/2023"
   ]
  },
  {
   "cell_type": "code",
   "execution_count": 1,
   "metadata": {},
   "outputs": [
    {
     "ename": "KeyError",
     "evalue": "'blob'",
     "output_type": "error",
     "traceback": [
      "\u001b[1;31m---------------------------------------------------------------------------\u001b[0m",
      "\u001b[1;31mKeyError\u001b[0m                                  Traceback (most recent call last)",
      "\u001b[1;32mc:\\Users\\Vladimir\\Desktop\\Everything\\Work\\ARLIS\\HIVE\\Graph-Benchmarking-Project\\Code\\Graph_Problems\\CommunityDetection\\Louvian\\Parallel\\CPU\\parallel-louvain-modularity\\src\\parallel\\mtx_to_metis.ipynb Cell 5\u001b[0m line \u001b[0;36m8\n\u001b[0;32m      <a href='vscode-notebook-cell:/c%3A/Users/Vladimir/Desktop/Everything/Work/ARLIS/HIVE/Graph-Benchmarking-Project/Code/Graph_Problems/CommunityDetection/Louvian/Parallel/CPU/parallel-louvain-modularity/src/parallel/mtx_to_metis.ipynb#W2sZmlsZQ%3D%3D?line=4'>5</a>\u001b[0m     mtx_data \u001b[39m=\u001b[39m json\u001b[39m.\u001b[39mload(mtx_file)\n\u001b[0;32m      <a href='vscode-notebook-cell:/c%3A/Users/Vladimir/Desktop/Everything/Work/ARLIS/HIVE/Graph-Benchmarking-Project/Code/Graph_Problems/CommunityDetection/Louvian/Parallel/CPU/parallel-louvain-modularity/src/parallel/mtx_to_metis.ipynb#W2sZmlsZQ%3D%3D?line=6'>7</a>\u001b[0m \u001b[39m# Extract necessary information from the JSON data\u001b[39;00m\n\u001b[1;32m----> <a href='vscode-notebook-cell:/c%3A/Users/Vladimir/Desktop/Everything/Work/ARLIS/HIVE/Graph-Benchmarking-Project/Code/Graph_Problems/CommunityDetection/Louvian/Parallel/CPU/parallel-louvain-modularity/src/parallel/mtx_to_metis.ipynb#W2sZmlsZQ%3D%3D?line=7'>8</a>\u001b[0m num_nodes \u001b[39m=\u001b[39m mtx_data[\u001b[39m'\u001b[39;49m\u001b[39mblob\u001b[39;49m\u001b[39m'\u001b[39;49m][\u001b[39m'\u001b[39m\u001b[39mrawLines\u001b[39m\u001b[39m'\u001b[39m][\u001b[39m2\u001b[39m]\u001b[39m.\u001b[39msplit()[\u001b[39m0\u001b[39m]\n\u001b[0;32m      <a href='vscode-notebook-cell:/c%3A/Users/Vladimir/Desktop/Everything/Work/ARLIS/HIVE/Graph-Benchmarking-Project/Code/Graph_Problems/CommunityDetection/Louvian/Parallel/CPU/parallel-louvain-modularity/src/parallel/mtx_to_metis.ipynb#W2sZmlsZQ%3D%3D?line=8'>9</a>\u001b[0m num_edges \u001b[39m=\u001b[39m mtx_data[\u001b[39m'\u001b[39m\u001b[39mblob\u001b[39m\u001b[39m'\u001b[39m][\u001b[39m'\u001b[39m\u001b[39mrawLines\u001b[39m\u001b[39m'\u001b[39m][\u001b[39m2\u001b[39m]\u001b[39m.\u001b[39msplit()[\u001b[39m1\u001b[39m]\n\u001b[0;32m     <a href='vscode-notebook-cell:/c%3A/Users/Vladimir/Desktop/Everything/Work/ARLIS/HIVE/Graph-Benchmarking-Project/Code/Graph_Problems/CommunityDetection/Louvian/Parallel/CPU/parallel-louvain-modularity/src/parallel/mtx_to_metis.ipynb#W2sZmlsZQ%3D%3D?line=9'>10</a>\u001b[0m edges \u001b[39m=\u001b[39m mtx_data[\u001b[39m'\u001b[39m\u001b[39mblob\u001b[39m\u001b[39m'\u001b[39m][\u001b[39m'\u001b[39m\u001b[39mrawLines\u001b[39m\u001b[39m'\u001b[39m][\u001b[39m3\u001b[39m:]\n",
      "\u001b[1;31mKeyError\u001b[0m: 'blob'"
     ]
    }
   ],
   "source": [
    "import json\n",
    "\n",
    "# Load the .mtx file\n",
    "with open('SMALL_chesapeake.mtx', 'r') as mtx_file:\n",
    "    mtx_data = json.load(mtx_file)\n",
    "\n",
    "# Extract necessary information from the JSON data\n",
    "num_nodes = mtx_data['blob']['rawLines'][2].split()[0]\n",
    "num_edges = mtx_data['blob']['rawLines'][2].split()[1]\n",
    "edges = mtx_data['blob']['rawLines'][3:]\n",
    "\n",
    "# Create a METIS format file\n",
    "with open('SMALL_chesapeake.txt', 'w') as metis_file:\n",
    "    # Write the header line with the number of nodes and edges\n",
    "    metis_file.write(f\"{num_nodes} {num_edges}\\n\")\n",
    "    \n",
    "    # Write the edge data\n",
    "    for edge in edges:\n",
    "        edge_data = edge.split()[2:]  # Extract adjacency information\n",
    "        metis_file.write(\" \".join(edge_data) + \"\\n\")\n",
    "\n",
    "print(\"Conversion complete. METIS format file 'SMALL_chesapeake.txt' has been created.\")\n"
   ]
  },
  {
   "cell_type": "code",
   "execution_count": 3,
   "metadata": {},
   "outputs": [
    {
     "name": "stdout",
     "output_type": "stream",
     "text": [
      "Conversion complete. METIS format file 'SMALL_chesapeake.txt' has been created.\n"
     ]
    }
   ],
   "source": [
    "def convert_json_mtx_to_metis(input_file, output_file):\n",
    "    with open(input_file, 'r') as mtx_file, open(output_file, 'w') as metis_file:\n",
    "        mtx_data = json.load(mtx_file)\n",
    "        raw_lines = mtx_data.get('blob', {}).get('rawLines', [])\n",
    "\n",
    "        num_nodes, num_edges = None, None\n",
    "        edge_data = []\n",
    "\n",
    "        for line in raw_lines:\n",
    "            line = line.strip()\n",
    "            if line.startswith(\"%\"):  # Skip comments\n",
    "                continue\n",
    "            if not num_nodes:\n",
    "                num_nodes, num_edges, _ = map(int, line.split())\n",
    "            else:\n",
    "                edge_data.append(line)\n",
    "\n",
    "        metis_file.write(f\"{num_nodes} {num_edges}\\n\")\n",
    "        metis_file.write(\"\\n\".join(edge_data))\n",
    "\n",
    "    print(f\"Conversion complete. METIS format file '{output_file}' has been created.\")\n",
    "\n",
    "input_file = 'SMALL_chesapeake.mtx'\n",
    "output_file = 'SMALL_chesapeake.txt'\n",
    "\n",
    "# Usage: Specify the input JSON-based .mtx file and the desired output file in METIS format\n",
    "convert_json_mtx_to_metis(input_file, output_file)"
   ]
  },
  {
   "cell_type": "markdown",
   "metadata": {},
   "source": [
    "## Kent's Legacy code"
   ]
  },
  {
   "cell_type": "markdown",
   "metadata": {},
   "source": [
    "Whacky metadata SMALL_chesapeake.mtx format to normal mtx format"
   ]
  },
  {
   "cell_type": "code",
   "execution_count": 21,
   "metadata": {},
   "outputs": [
    {
     "name": "stdout",
     "output_type": "stream",
     "text": [
      "Matrix Market file 'norm_SMALL_chesapeake.mtx' has been written successfully.\n"
     ]
    }
   ],
   "source": [
    "import json\n",
    "\n",
    "input_file_name = \"SMALL_chesapeake.mtx\"  # Name of the input file containing JSON data\n",
    "output_file_name = \"norm_SMALL_chesapeake.mtx\"  # Name of the output file to write Matrix Market data\n",
    "\n",
    "try:\n",
    "    # Read JSON data from the input file\n",
    "    with open(input_file_name, 'r') as f:\n",
    "        data = json.load(f)\n",
    "\n",
    "    # Extract the raw lines containing the matrix data\n",
    "    raw_lines = data.get('payload', {}).get('blob', {}).get('rawLines', [])\n",
    "    format_header = f\"{raw_lines[0]}\\n\"\n",
    "\n",
    "    # Open the output file\n",
    "    with open(output_file_name, 'w') as f:\n",
    "        # Write Matrix Market format header (if you want)\n",
    "        f.write(format_header)\n",
    "\n",
    "        # Write the matrix data from the JSON to the output file\n",
    "        for line in raw_lines:\n",
    "            # Skip lines starting with a single '%' or '%%'\n",
    "            if line.startswith('%'):\n",
    "                continue\n",
    "            f.write(line + '\\n')\n",
    "\n",
    "    print(f\"Matrix Market file '{output_file_name}' has been written successfully.\")\n",
    "\n",
    "except json.JSONDecodeError:\n",
    "    print(f\"Error: The file '{input_file_name}' does not contain valid JSON data.\")\n",
    "\n",
    "except FileNotFoundError:\n",
    "    print(f\"Error: The file '{input_file_name}' does not exist.\")\n"
   ]
  },
  {
   "cell_type": "markdown",
   "metadata": {},
   "source": [
    "## USC's conversion code"
   ]
  },
  {
   "cell_type": "code",
   "execution_count": null,
   "metadata": {},
   "outputs": [],
   "source": []
  }
 ],
 "metadata": {
  "kernelspec": {
   "display_name": "hive",
   "language": "python",
   "name": "python3"
  },
  "language_info": {
   "codemirror_mode": {
    "name": "ipython",
    "version": 3
   },
   "file_extension": ".py",
   "mimetype": "text/x-python",
   "name": "python",
   "nbconvert_exporter": "python",
   "pygments_lexer": "ipython3",
   "version": "3.9.18"
  },
  "orig_nbformat": 4
 },
 "nbformat": 4,
 "nbformat_minor": 2
}
